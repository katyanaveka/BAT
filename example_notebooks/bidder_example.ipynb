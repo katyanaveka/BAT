{
 "cells": [
  {
   "cell_type": "markdown",
   "id": "ad57af05-1fe4-4d31-ace0-0c20703f4ec0",
   "metadata": {},
   "source": [
    "# This notebook provides a guideline how to create your own bidder class and to check it on our datasets."
   ]
  },
  {
   "cell_type": "code",
   "execution_count": null,
   "id": "88abcb1d-77bb-42b7-88c6-17eac9be6ad5",
   "metadata": {},
   "outputs": [],
   "source": [
    "import sys\n",
    "sys.path.append(\"../\")"
   ]
  },
  {
   "cell_type": "code",
   "execution_count": null,
   "id": "aaf35ef1-7a29-45ba-a417-fc04ca5c80fd",
   "metadata": {},
   "outputs": [],
   "source": [
    "import optuna\n",
    "import pandas as pd\n",
    "import numpy as np\n",
    "from typing import Dict\n",
    "\n",
    "import matplotlib.pyplot as plt\n",
    "\n",
    "from simulator.simulation.modules import Campaign, History\n",
    "from simulator.simulation.simulate import simulate_campaign\n",
    "from simulator.simulation.utils_visualization import data_prep_vis, plot_history_article\n",
    "from simulator.model.bidder import _Bidder\n",
    "from simulator.validation.check_results import autobidder_check"
   ]
  },
  {
   "cell_type": "markdown",
   "id": "7b373f97-900c-4df7-81a1-7862de3c3aeb",
   "metadata": {},
   "source": [
    "### Create bidder with a simple bidding strategy"
   ]
  },
  {
   "cell_type": "code",
   "execution_count": null,
   "id": "407fe68e-3ff2-437d-8109-3208f8c4ee9f",
   "metadata": {},
   "outputs": [],
   "source": [
    "class AllInBidder(_Bidder):\n",
    "    \"\"\"\n",
    "    A baseline bidder with a simple bidding strategy.\n",
    "\n",
    "    This class serves as an example of a working bidder and can be used\n",
    "    as a template for more sophisticated bidding strategies.\n",
    "\n",
    "    Attributes:\n",
    "        Any custom attributes can be added here.\n",
    "    \"\"\"\n",
    "\n",
    "    def __init__(self, params: dict = None):\n",
    "        super().__init__()\n",
    "\n",
    "    def place_bid(self, bidding_input_params: Dict[str, any], history: History) -> float:\n",
    "        \"\"\"\n",
    "        Calculate and return a bid based on the campaign's balance.\n",
    "\n",
    "        This method demonstrates the use of input parameters to determine the bid.\n",
    "\n",
    "        Args:\n",
    "            bidding_input_params: A dictionary containing bidding input parameters.\n",
    "            history: Auction history for the specific campaign (unused in this implementation).\n",
    "\n",
    "        Returns:\n",
    "            float: The calculated bid amount.\n",
    "        \"\"\"\n",
    "        \n",
    "        bid = bidding_input_params[\"balance\"]\n",
    "        return bid"
   ]
  },
  {
   "cell_type": "markdown",
   "id": "d3db7396-2a80-43cb-8ae0-07272115c1e3",
   "metadata": {},
   "source": [
    "### Let's check our risky bidder on one campaign's data"
   ]
  },
  {
   "cell_type": "code",
   "execution_count": null,
   "id": "aedfa781-2752-4efa-9a1b-c10b05e5f8ba",
   "metadata": {},
   "outputs": [],
   "source": [
    "auction_mode = 'FPA' # you may also choose the 'VCG' mode\n",
    "bidder_class = AllInBidder\n",
    "\n",
    "# data paths\n",
    "if auction_mode == 'FPA':\n",
    "    campaigns_path = '../data/campaign_example_fpa.csv'\n",
    "    stats_path = '../data/stats_example_fpa.csv'\n",
    "elif auction_mode == 'VCG':\n",
    "    campaigns_path = ''\n",
    "    stats_path = ''"
   ]
  },
  {
   "cell_type": "code",
   "execution_count": null,
   "id": "ca0a32f3-1aad-4129-938d-d0271a26dddf",
   "metadata": {},
   "outputs": [],
   "source": [
    "campaign_df = pd.read_csv(campaigns_path)\n",
    "stats_df = pd.read_csv(stats_path)"
   ]
  },
  {
   "cell_type": "code",
   "execution_count": null,
   "id": "c079cbc4-326d-4704-a495-37d0d3218d1f",
   "metadata": {},
   "outputs": [],
   "source": [
    "CAMPAIGN_IDX = 5"
   ]
  },
  {
   "cell_type": "code",
   "execution_count": null,
   "id": "e111308f-16c2-4c30-85d2-6bcc4d5ad7d8",
   "metadata": {},
   "outputs": [],
   "source": [
    "campaign_data = campaign_df.iloc[CAMPAIGN_IDX]\n",
    "campaign_example = Campaign(\n",
    "    item_id=campaign_data['item_id'],\n",
    "    campaign_id=int(campaign_data['campaign_id']),\n",
    "    loc_id=int(campaign_data[\"loc_id\"]),\n",
    "    region_id=int(campaign_data[\"region_id\"]),\n",
    "    logical_category=campaign_data[\"logical_category\"],\n",
    "    microcat_ext=int(campaign_data[\"microcat_ext\"]),\n",
    "    campaign_start=int(campaign_data[\"campaign_start\"]),\n",
    "    campaign_end=int(campaign_data[\"campaign_end\"]),\n",
    "    initial_balance=campaign_data['auction_budget'],\n",
    "    balance=campaign_data['auction_budget'],\n",
    "    curr_time=int(campaign_data[\"campaign_start\"]),\n",
    "    prev_time=int(campaign_data[\"campaign_start\"]),\n",
    "    prev_balance=campaign_data['auction_budget'],\n",
    ")\n",
    "campaign_data['auction_budget'], (campaign_data['campaign_end'] - campaign_data['campaign_start']) // 3600"
   ]
  },
  {
   "cell_type": "code",
   "execution_count": null,
   "id": "660080a9-443b-41fa-b2cc-5bfcd1e7b354",
   "metadata": {},
   "outputs": [],
   "source": [
    "simulation_history = simulate_campaign(\n",
    "    campaign=campaign_example,\n",
    "    bidder=bidder_class(),\n",
    "    stats_file=stats_df,\n",
    "    auction_mode=auction_mode\n",
    ")"
   ]
  },
  {
   "cell_type": "markdown",
   "id": "f4ef3d26-bdee-4e1a-8b86-8bc4b8b22ae1",
   "metadata": {},
   "source": [
    "# Visualization of one campaign's simulation history"
   ]
  },
  {
   "cell_type": "code",
   "execution_count": null,
   "id": "01e7c046-6a7b-4a74-a237-04137d38692a",
   "metadata": {},
   "outputs": [],
   "source": [
    "df = simulation_history.to_data_frame()\n",
    "vis_data = data_prep_vis(df)\n",
    "df.head(2)"
   ]
  },
  {
   "cell_type": "code",
   "execution_count": null,
   "id": "427c4711-a8e0-41eb-b6b3-56214f3e87e7",
   "metadata": {},
   "outputs": [],
   "source": [
    "fig = plot_history_article(vis_data)"
   ]
  },
  {
   "cell_type": "markdown",
   "id": "41c27e50-5445-40d3-a086-6e4badd70d6a",
   "metadata": {},
   "source": [
    "# Metrics check"
   ]
  },
  {
   "cell_type": "code",
   "execution_count": null,
   "id": "7f597035-0811-44f2-b156-75b967021cbf",
   "metadata": {},
   "outputs": [],
   "source": [
    "res = autobidder_check(\n",
    "        bidder=AllInBidder,\n",
    "        params={\n",
    "            \"input_campaigns\": campaigns_path,\n",
    "            \"input_stats\": stats_path,\n",
    "        },\n",
    "        auction_mode=auction_mode\n",
    "    )\n",
    "\n",
    "print(f\"MCR: {res['score'][0]}, RMSE_T: {res['score'][1]}\")"
   ]
  },
  {
   "cell_type": "markdown",
   "id": "54d87009-0f18-4f1c-907f-7767cda08ada",
   "metadata": {},
   "source": [
    "As you can see, this bidder's performance leaves room for improvement. Good luck with your own bidders, and may your bids be ever in your favor!"
   ]
  },
  {
   "cell_type": "code",
   "execution_count": null,
   "id": "678d0837-c4d8-41af-a238-acf2914586ee",
   "metadata": {},
   "outputs": [],
   "source": []
  }
 ],
 "metadata": {
  "kernelspec": {
   "display_name": "Python 3 (ipykernel)",
   "language": "python",
   "name": "python3"
  },
  "language_info": {
   "codemirror_mode": {
    "name": "ipython",
    "version": 3
   },
   "file_extension": ".py",
   "mimetype": "text/x-python",
   "name": "python",
   "nbconvert_exporter": "python",
   "pygments_lexer": "ipython3",
   "version": "3.11.9"
  }
 },
 "nbformat": 4,
 "nbformat_minor": 5
}
