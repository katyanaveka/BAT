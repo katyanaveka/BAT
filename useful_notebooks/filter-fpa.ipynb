{
 "cells": [
  {
   "cell_type": "code",
   "execution_count": 1,
   "id": "83ed56ca-d40e-43ef-8982-25ab319905f7",
   "metadata": {},
   "outputs": [],
   "source": [
    "import sys\n",
    "sys.path.append(\"../\")"
   ]
  },
  {
   "cell_type": "code",
   "execution_count": 2,
   "id": "f87f1a8e-473b-41a4-ab91-26dbbdd912c8",
   "metadata": {},
   "outputs": [],
   "source": [
    "%load_ext autoreload\n",
    "%autoreload 2\n",
    "\n",
    "import pandas as pd\n",
    "import numpy as np"
   ]
  },
  {
   "cell_type": "markdown",
   "id": "3e977bab",
   "metadata": {},
   "source": [
    "# Data Filtering Example for FPA Auction Data\n",
    "\n",
    "## Overview\n",
    "\n",
    "This notebook demonstrates a suggested approach for filtering data from the FPA (First-Price Auction) data files. The methods shown here are intended as guidelines and can be adapted based on specific requirements.\n",
    "\n",
    "## Purpose\n",
    "\n",
    "The main objectives of this notebook are:\n",
    "\n",
    "1. To showcase a potential data filtering methodology\n",
    "2. To provide a starting point for working with FPA auction data\n",
    "3. To replicate the data preprocessing steps applied to the algorithms presented in the benchmark's accompanying research paper, ensuring consistency with the published results\n",
    "\n",
    "## Important Note\n",
    "\n",
    "While this notebook presents one way to filter and process the data, it's important to remember that:\n",
    "\n",
    "- This is not the only correct method\n",
    "- The approach can and should be modified to suit specific research needs\n",
    "- Users are encouraged to explore alternative filtering techniques that may be more appropriate for their particular analysis"
   ]
  },
  {
   "cell_type": "markdown",
   "id": "bde331e1-22f5-4d58-895c-ca1790b54cb9",
   "metadata": {},
   "source": [
    "### Stats and campaigns loading separately"
   ]
  },
  {
   "cell_type": "code",
   "execution_count": 5,
   "id": "e58213c3-2999-457f-bf12-84efc0ee2829",
   "metadata": {},
   "outputs": [],
   "source": [
    "stats = pd.read_csv('../data/fpa/stats.csv')\n",
    "campaigns = pd.read_csv('../data/fpa/campaigns.csv')"
   ]
  },
  {
   "cell_type": "code",
   "execution_count": 6,
   "id": "54a4d3dc-bf48-4d2a-b642-270ee527bf16",
   "metadata": {},
   "outputs": [
    {
     "name": "stdout",
     "output_type": "stream",
     "text": [
      "<class 'pandas.core.frame.DataFrame'>\n",
      "RangeIndex: 176909 entries, 0 to 176908\n",
      "Data columns (total 12 columns):\n",
      " #   Column                    Non-Null Count   Dtype  \n",
      "---  ------                    --------------   -----  \n",
      " 0   campaign_id               176909 non-null  int64  \n",
      " 1   period                    176909 non-null  int64  \n",
      " 2   item_id                   176909 non-null  int64  \n",
      " 3   contact_price_bin         176909 non-null  float64\n",
      " 4   AuctionVisibilitySurplus  176909 non-null  float64\n",
      " 5   AuctionClicksSurplus      176909 non-null  float64\n",
      " 6   AuctionContactsSurplus    176909 non-null  float64\n",
      " 7   AuctionWinBidSurplus      176909 non-null  float64\n",
      " 8   CTRPredicts               176909 non-null  float64\n",
      " 9   CRPredicts                176909 non-null  float64\n",
      " 10  AuctionCount              176909 non-null  int64  \n",
      " 11  platform_p                33878 non-null   object \n",
      "dtypes: float64(7), int64(4), object(1)\n",
      "memory usage: 16.2+ MB\n"
     ]
    }
   ],
   "source": [
    "stats.info()"
   ]
  },
  {
   "cell_type": "code",
   "execution_count": 7,
   "id": "705ec3f4-3870-4ba9-a6d6-3ff021e33fac",
   "metadata": {},
   "outputs": [],
   "source": [
    "def process_data(campaigns, stats):\n",
    "    # Filter out invalid or undesirable data points\n",
    "    stats = stats[\n",
    "        stats['contact_price_bin'].notna() &\n",
    "        (stats['AuctionVisibilitySurplus'] > 0) &\n",
    "        (stats['AuctionClicksSurplus'] > 0) &\n",
    "        (stats['AuctionContactsSurplus'] > 0) &\n",
    "        (stats['AuctionWinBidSurplus'] > 0) &\n",
    "        (stats['CTRPredicts'] > 0) &\n",
    "        (stats['CRPredicts'] > 0)\n",
    "    ]\n",
    "\n",
    "    # Aggregate stats by campaign\n",
    "    cmp_stats = stats.groupby('campaign_id').agg({\n",
    "        'period': ['nunique', 'max', 'min'],\n",
    "        'AuctionWinBidSurplus': 'sum',\n",
    "        'AuctionContactsSurplus': 'sum',\n",
    "        'AuctionClicksSurplus': 'sum',\n",
    "        'contact_price_bin': 'max'\n",
    "    }).reset_index()\n",
    "\n",
    "    # Rename columns for clarity\n",
    "    cmp_stats.columns = ['campaign_id', 'count_periods', 'max_period', 'min_period', \n",
    "                         'max_price_vcg', 'AuctionContactsSurplus', 'max_clicks', 'max_contact_price_bin']\n",
    "\n",
    "    # Calculate FPA max price and max contacts\n",
    "    cmp_stats['max_price_fpa'] = cmp_stats['AuctionContactsSurplus'] * np.power(1.2, cmp_stats['max_contact_price_bin'])\n",
    "    cmp_stats['max_contacts'] = cmp_stats['AuctionContactsSurplus']\n",
    "    cmp_stats.drop('AuctionContactsSurplus', axis=1, inplace=True)\n",
    "\n",
    "    # Calculate number of periods and check if all periods are logged\n",
    "    cmp_stats['num_periods'] = ((cmp_stats['max_period'] - cmp_stats['min_period'])/3600 + 1).astype(int)\n",
    "    cmp_stats['period_full'] = cmp_stats['num_periods'] == cmp_stats['count_periods']\n",
    "\n",
    "    # Filter and process campaigns data\n",
    "    campaigns = campaigns[((campaigns['campaign_end'] - campaigns['campaign_start'])/3600/24) > 0.99]\n",
    "    campaigns['count_c'] = campaigns.groupby('campaign_id')['campaign_id'].transform('count')\n",
    "    campaigns = campaigns[campaigns['count_c'] == 1]\n",
    "    campaigns = campaigns[['campaign_id', 'campaign_end_date', 'campaign_start', 'campaign_end', 'auction_budget']]\n",
    "\n",
    "    # Merge campaign data with stats\n",
    "    cmp_stats = pd.merge(cmp_stats, campaigns, on='campaign_id', how='inner')\n",
    "\n",
    "    # Check if logs start at campaign start\n",
    "    cmp_stats['logs_at_start'] = cmp_stats['min_period'] <= cmp_stats['campaign_start']\n",
    "\n",
    "    # Calculate various metrics and flags\n",
    "    cmp_stats['expected_periods'] = ((cmp_stats['campaign_end'] - cmp_stats['campaign_start'])/3600).astype(int)\n",
    "    cmp_stats['vcg_campaign_days'] = ((cmp_stats['campaign_end'] - cmp_stats['campaign_start'])/3600/24).astype(int)\n",
    "    cmp_stats['periods_logged_full'] = cmp_stats['count_periods'] >= cmp_stats['expected_periods'] - 1\n",
    "    cmp_stats['budget_vcg_ok'] = cmp_stats['max_price_vcg'] > cmp_stats['auction_budget']\n",
    "    cmp_stats['budget_fpa_ok'] = cmp_stats['max_price_fpa'] > cmp_stats['auction_budget']\n",
    "    cmp_stats['clicks_ok'] = cmp_stats['max_clicks'] > 3\n",
    "    cmp_stats['contacts_ok'] = cmp_stats['max_contacts'] > 0.5\n",
    "    cmp_stats['campaign>1day'] = cmp_stats['expected_periods'] > 25\n",
    "    cmp_stats['campaign>=7day'] = cmp_stats['expected_periods'] > 24 * 7\n",
    "    cmp_stats['logged>1day'] = cmp_stats['num_periods'] > 25\n",
    "    cmp_stats['logged>2day'] = cmp_stats['num_periods'] > 49\n",
    "\n",
    "    campaigns_tier_1 = cmp_stats[\n",
    "        cmp_stats['budget_vcg_ok'] &\n",
    "        cmp_stats['budget_fpa_ok'] &\n",
    "        cmp_stats['clicks_ok'] &\n",
    "        cmp_stats['logs_at_start']\n",
    "    ]\n",
    "\n",
    "    return cmp_stats, campaigns_tier_1"
   ]
  },
  {
   "cell_type": "code",
   "execution_count": 7,
   "id": "1776ab2d-c711-4693-abd2-49897adf40dd",
   "metadata": {},
   "outputs": [],
   "source": [
    "cmp_stats, campaigns_tier_1 = process_data(campaigns, stats)"
   ]
  },
  {
   "cell_type": "code",
   "execution_count": 8,
   "id": "df9a041a-298d-47d5-b303-47f2bdcf2dd7",
   "metadata": {},
   "outputs": [],
   "source": [
    "ministats = stats[stats.campaign_id.isin(set(campaigns_tier_1.campaign_id))]\n",
    "minicampaigns = campaigns[campaigns.campaign_id.isin(set(campaigns_tier_1.campaign_id))]"
   ]
  },
  {
   "cell_type": "code",
   "execution_count": 9,
   "id": "d9d2d100-07b9-4c12-8b7e-32b609447640",
   "metadata": {},
   "outputs": [
    {
     "data": {
      "text/plain": [
       "(9640, 10296)"
      ]
     },
     "execution_count": 9,
     "metadata": {},
     "output_type": "execute_result"
    }
   ],
   "source": [
    "len(minicampaigns), len(campaigns)"
   ]
  },
  {
   "cell_type": "code",
   "execution_count": 10,
   "id": "d64ad88d-6471-4299-bdb3-7cf9658001d9",
   "metadata": {},
   "outputs": [
    {
     "data": {
      "text/html": [
       "<div>\n",
       "<style scoped>\n",
       "    .dataframe tbody tr th:only-of-type {\n",
       "        vertical-align: middle;\n",
       "    }\n",
       "\n",
       "    .dataframe tbody tr th {\n",
       "        vertical-align: top;\n",
       "    }\n",
       "\n",
       "    .dataframe thead th {\n",
       "        text-align: right;\n",
       "    }\n",
       "</style>\n",
       "<table border=\"1\" class=\"dataframe\">\n",
       "  <thead>\n",
       "    <tr style=\"text-align: right;\">\n",
       "      <th></th>\n",
       "      <th>campaign_id</th>\n",
       "      <th>loc_id</th>\n",
       "      <th>item_id</th>\n",
       "      <th>campaign_start_date</th>\n",
       "      <th>campaign_start</th>\n",
       "      <th>campaign_end</th>\n",
       "      <th>auction_budget</th>\n",
       "      <th>microcat_ext</th>\n",
       "      <th>logical_category</th>\n",
       "      <th>region_id</th>\n",
       "      <th>campaign_end_date</th>\n",
       "    </tr>\n",
       "  </thead>\n",
       "  <tbody>\n",
       "    <tr>\n",
       "      <th>0</th>\n",
       "      <td>76801828</td>\n",
       "      <td>650510</td>\n",
       "      <td>4281300400</td>\n",
       "      <td>1986-10-15</td>\n",
       "      <td>529789799</td>\n",
       "      <td>530221799</td>\n",
       "      <td>307.20</td>\n",
       "      <td>1104365</td>\n",
       "      <td>1.38</td>\n",
       "      <td>650130</td>\n",
       "      <td>1986-10-20</td>\n",
       "    </tr>\n",
       "    <tr>\n",
       "      <th>1</th>\n",
       "      <td>73128249</td>\n",
       "      <td>636680</td>\n",
       "      <td>3516657100</td>\n",
       "      <td>1986-10-13</td>\n",
       "      <td>529572324</td>\n",
       "      <td>530177124</td>\n",
       "      <td>1607.04</td>\n",
       "      <td>3809</td>\n",
       "      <td>2.35</td>\n",
       "      <td>636370</td>\n",
       "      <td>1986-10-20</td>\n",
       "    </tr>\n",
       "    <tr>\n",
       "      <th>2</th>\n",
       "      <td>81601435</td>\n",
       "      <td>634450</td>\n",
       "      <td>4132163400</td>\n",
       "      <td>1986-10-20</td>\n",
       "      <td>530169712</td>\n",
       "      <td>530428912</td>\n",
       "      <td>643.20</td>\n",
       "      <td>2278185</td>\n",
       "      <td>5.26</td>\n",
       "      <td>632660</td>\n",
       "      <td>1986-10-23</td>\n",
       "    </tr>\n",
       "    <tr>\n",
       "      <th>3</th>\n",
       "      <td>88968522</td>\n",
       "      <td>639120</td>\n",
       "      <td>4064110700</td>\n",
       "      <td>1986-10-26</td>\n",
       "      <td>530690497</td>\n",
       "      <td>530776897</td>\n",
       "      <td>480.00</td>\n",
       "      <td>3772</td>\n",
       "      <td>2.35</td>\n",
       "      <td>637680</td>\n",
       "      <td>1986-10-27</td>\n",
       "    </tr>\n",
       "    <tr>\n",
       "      <th>4</th>\n",
       "      <td>81258668</td>\n",
       "      <td>652000</td>\n",
       "      <td>4123333600</td>\n",
       "      <td>1986-10-19</td>\n",
       "      <td>530118662</td>\n",
       "      <td>530377862</td>\n",
       "      <td>912.00</td>\n",
       "      <td>2093777</td>\n",
       "      <td>1.21</td>\n",
       "      <td>651110</td>\n",
       "      <td>1986-10-22</td>\n",
       "    </tr>\n",
       "    <tr>\n",
       "      <th>...</th>\n",
       "      <td>...</td>\n",
       "      <td>...</td>\n",
       "      <td>...</td>\n",
       "      <td>...</td>\n",
       "      <td>...</td>\n",
       "      <td>...</td>\n",
       "      <td>...</td>\n",
       "      <td>...</td>\n",
       "      <td>...</td>\n",
       "      <td>...</td>\n",
       "      <td>...</td>\n",
       "    </tr>\n",
       "    <tr>\n",
       "      <th>10291</th>\n",
       "      <td>78643076</td>\n",
       "      <td>630530</td>\n",
       "      <td>4060535900</td>\n",
       "      <td>1986-10-17</td>\n",
       "      <td>529923663</td>\n",
       "      <td>530010063</td>\n",
       "      <td>299.52</td>\n",
       "      <td>2278181</td>\n",
       "      <td>5.26</td>\n",
       "      <td>630270</td>\n",
       "      <td>1986-10-18</td>\n",
       "    </tr>\n",
       "    <tr>\n",
       "      <th>10292</th>\n",
       "      <td>83614852</td>\n",
       "      <td>659300</td>\n",
       "      <td>3858987900</td>\n",
       "      <td>1986-10-21</td>\n",
       "      <td>530283644</td>\n",
       "      <td>530370044</td>\n",
       "      <td>215.04</td>\n",
       "      <td>2278163</td>\n",
       "      <td>5.37</td>\n",
       "      <td>659200</td>\n",
       "      <td>1986-10-22</td>\n",
       "    </tr>\n",
       "    <tr>\n",
       "      <th>10293</th>\n",
       "      <td>73060784</td>\n",
       "      <td>661420</td>\n",
       "      <td>4328901600</td>\n",
       "      <td>1986-10-13</td>\n",
       "      <td>529570268</td>\n",
       "      <td>529656668</td>\n",
       "      <td>645.12</td>\n",
       "      <td>2278182</td>\n",
       "      <td>5.26</td>\n",
       "      <td>660710</td>\n",
       "      <td>1986-10-14</td>\n",
       "    </tr>\n",
       "    <tr>\n",
       "      <th>10294</th>\n",
       "      <td>82833101</td>\n",
       "      <td>653240</td>\n",
       "      <td>3328619800</td>\n",
       "      <td>1986-10-21</td>\n",
       "      <td>530250371</td>\n",
       "      <td>530423171</td>\n",
       "      <td>181.44</td>\n",
       "      <td>736</td>\n",
       "      <td>3.30</td>\n",
       "      <td>653240</td>\n",
       "      <td>1986-10-23</td>\n",
       "    </tr>\n",
       "    <tr>\n",
       "      <th>10295</th>\n",
       "      <td>80592620</td>\n",
       "      <td>637640</td>\n",
       "      <td>2426416300</td>\n",
       "      <td>1986-10-19</td>\n",
       "      <td>530089946</td>\n",
       "      <td>530176346</td>\n",
       "      <td>987.84</td>\n",
       "      <td>728</td>\n",
       "      <td>3.90</td>\n",
       "      <td>637640</td>\n",
       "      <td>1986-10-20</td>\n",
       "    </tr>\n",
       "  </tbody>\n",
       "</table>\n",
       "<p>9640 rows × 11 columns</p>\n",
       "</div>"
      ],
      "text/plain": [
       "       campaign_id  loc_id     item_id campaign_start_date  campaign_start  \\\n",
       "0         76801828  650510  4281300400          1986-10-15       529789799   \n",
       "1         73128249  636680  3516657100          1986-10-13       529572324   \n",
       "2         81601435  634450  4132163400          1986-10-20       530169712   \n",
       "3         88968522  639120  4064110700          1986-10-26       530690497   \n",
       "4         81258668  652000  4123333600          1986-10-19       530118662   \n",
       "...            ...     ...         ...                 ...             ...   \n",
       "10291     78643076  630530  4060535900          1986-10-17       529923663   \n",
       "10292     83614852  659300  3858987900          1986-10-21       530283644   \n",
       "10293     73060784  661420  4328901600          1986-10-13       529570268   \n",
       "10294     82833101  653240  3328619800          1986-10-21       530250371   \n",
       "10295     80592620  637640  2426416300          1986-10-19       530089946   \n",
       "\n",
       "       campaign_end  auction_budget  microcat_ext  logical_category  \\\n",
       "0         530221799          307.20       1104365              1.38   \n",
       "1         530177124         1607.04          3809              2.35   \n",
       "2         530428912          643.20       2278185              5.26   \n",
       "3         530776897          480.00          3772              2.35   \n",
       "4         530377862          912.00       2093777              1.21   \n",
       "...             ...             ...           ...               ...   \n",
       "10291     530010063          299.52       2278181              5.26   \n",
       "10292     530370044          215.04       2278163              5.37   \n",
       "10293     529656668          645.12       2278182              5.26   \n",
       "10294     530423171          181.44           736              3.30   \n",
       "10295     530176346          987.84           728              3.90   \n",
       "\n",
       "       region_id campaign_end_date  \n",
       "0         650130        1986-10-20  \n",
       "1         636370        1986-10-20  \n",
       "2         632660        1986-10-23  \n",
       "3         637680        1986-10-27  \n",
       "4         651110        1986-10-22  \n",
       "...          ...               ...  \n",
       "10291     630270        1986-10-18  \n",
       "10292     659200        1986-10-22  \n",
       "10293     660710        1986-10-14  \n",
       "10294     653240        1986-10-23  \n",
       "10295     637640        1986-10-20  \n",
       "\n",
       "[9640 rows x 11 columns]"
      ]
     },
     "execution_count": 10,
     "metadata": {},
     "output_type": "execute_result"
    }
   ],
   "source": [
    "minicampaigns"
   ]
  },
  {
   "cell_type": "markdown",
   "id": "41bca7c6-ac93-4f7f-a6e2-d962cc48830f",
   "metadata": {},
   "source": [
    "# Some statistics of the datasets"
   ]
  },
  {
   "cell_type": "code",
   "execution_count": 11,
   "id": "ebd1dc93-6ae6-4e60-94f6-e351a131efa0",
   "metadata": {},
   "outputs": [
    {
     "data": {
      "text/plain": [
       "<Axes: >"
      ]
     },
     "execution_count": 11,
     "metadata": {},
     "output_type": "execute_result"
    },
    {
     "data": {
      "image/png": "[encoded data removed]",
      "text/plain": [
       "<Figure size 640x480 with 1 Axes>"
      ]
     },
     "metadata": {},
     "output_type": "display_data"
    }
   ],
   "source": [
    "# Contact price bin distribution\n",
    "stats.contact_price_bin.hist(bins=30)"
   ]
  },
  {
   "cell_type": "code",
   "execution_count": 12,
   "id": "c7ace854-caa8-4598-8680-6a80c50dbac9",
   "metadata": {},
   "outputs": [],
   "source": [
    "def campaigns_value_counts(campaigns: pd.DataFrame):\n",
    "    length_series = pd.to_datetime(campaigns['campaign_end'], unit='s') - pd.to_datetime(campaigns['campaign_start'], unit='s')\n",
    "    print(length_series.value_counts())\n",
    "    pass"
   ]
  },
  {
   "cell_type": "code",
   "execution_count": 13,
   "id": "a40fd95f-894c-499a-be65-8a3853d2a4cb",
   "metadata": {},
   "outputs": [
    {
     "name": "stdout",
     "output_type": "stream",
     "text": [
      "1 days     8499\n",
      "3 days      536\n",
      "2 days      419\n",
      "5 days      391\n",
      "7 days      390\n",
      "4 days       47\n",
      "6 days        6\n",
      "8 days        3\n",
      "14 days       3\n",
      "10 days       2\n",
      "Name: count, dtype: int64\n"
     ]
    }
   ],
   "source": [
    "# Distribution of the lengths of the lifetime of the campaigns\n",
    "campaigns_value_counts(campaigns)"
   ]
  },
  {
   "cell_type": "markdown",
   "id": "2af791c2-b2b8-49f2-aecf-40ec90aecb3f",
   "metadata": {},
   "source": [
    "# Train + test split"
   ]
  },
  {
   "cell_type": "code",
   "execution_count": 14,
   "id": "3e8a01d6-1c91-49dc-bf35-f51cd8a72b77",
   "metadata": {},
   "outputs": [
    {
     "data": {
      "text/plain": [
       "campaign_start_date\n",
       "1986-10-14    924\n",
       "1986-10-13    904\n",
       "1986-10-15    861\n",
       "1986-10-16    840\n",
       "1986-10-20    757\n",
       "1986-10-17    750\n",
       "1986-10-21    728\n",
       "1986-10-18    647\n",
       "1986-10-23    624\n",
       "1986-10-24    606\n",
       "1986-10-19    590\n",
       "1986-10-25    494\n",
       "1986-10-22    461\n",
       "1986-10-26    437\n",
       "1986-10-12     17\n",
       "Name: count, dtype: int64"
      ]
     },
     "execution_count": 14,
     "metadata": {},
     "output_type": "execute_result"
    }
   ],
   "source": [
    "minicampaigns.campaign_start_date.value_counts()"
   ]
  },
  {
   "cell_type": "code",
   "execution_count": 15,
   "id": "9dc2b077-7d13-4a42-9cd4-3690ccf27c4a",
   "metadata": {},
   "outputs": [
    {
     "name": "stdout",
     "output_type": "stream",
     "text": [
      "length of the train: 1285, length of the test: 1285\n"
     ]
    }
   ],
   "source": [
    "k = len(minicampaigns) * 2 // 15\n",
    "k_test = len(minicampaigns) * 4 // 15\n",
    "last_train_start = max(np.partition(minicampaigns.campaign_start, k)[:k])\n",
    "last_test_start = max(np.partition(minicampaigns.campaign_start, k_test)[:k_test])\n",
    "print(f'length of the train: {k}, length of the test: {k_test - k}')"
   ]
  },
  {
   "cell_type": "code",
   "execution_count": 16,
   "id": "54da1d27-c73d-4f7c-92df-80c4f2202ccf",
   "metadata": {},
   "outputs": [
    {
     "data": {
      "text/plain": [
       "(1284, 1285)"
      ]
     },
     "execution_count": 16,
     "metadata": {},
     "output_type": "execute_result"
    }
   ],
   "source": [
    "len(minicampaigns[minicampaigns.campaign_start < last_train_start]), len(minicampaigns[(minicampaigns.campaign_start >= last_train_start) & (minicampaigns.campaign_start < last_test_start)])"
   ]
  },
  {
   "cell_type": "code",
   "execution_count": 17,
   "id": "37e1d4dc-4ca4-490e-b8bf-2472be32504c",
   "metadata": {},
   "outputs": [],
   "source": [
    "# Filter out campaigns from the training set whose lifetimes intersect with any campaign in the test set\n",
    "campaigns_train = minicampaigns[minicampaigns.campaign_start < last_train_start]\n",
    "campaigns_test = minicampaigns[(minicampaigns.campaign_start >= last_train_start) & (minicampaigns.campaign_start < last_test_start)]"
   ]
  },
  {
   "cell_type": "markdown",
   "id": "9fa3e4a3-093e-4f88-b6eb-32c42172d1b5",
   "metadata": {},
   "source": [
    "# Saving filtered data to files"
   ]
  },
  {
   "cell_type": "code",
   "execution_count": 19,
   "id": "4a70e6ee-ffee-4710-bce4-008749bff2d7",
   "metadata": {},
   "outputs": [],
   "source": [
    "minicampaigns.to_csv('../data/fpa/campaigns_fpa_filtered_final.csv', index=False)\n",
    "campaigns_train.to_csv('../data/fpa/campaigns_fpa_filtered_train_final.csv', index=False)\n",
    "campaigns_test.to_csv('../data/fpa/campaigns_fpa_filtered_test_final.csv', index=False)"
   ]
  },
  {
   "cell_type": "code",
   "execution_count": 20,
   "id": "3bd3c2be-73e3-4b8b-8746-fde839984d83",
   "metadata": {},
   "outputs": [],
   "source": [
    "ministats.to_csv('../data/fpa/stats_fpa_filtered_final.csv', index=False)\n",
    "ministats[ministats.campaign_id.isin(campaigns_train.campaign_id)].to_csv('../data/fpa/stats_fpa_filtered_train_final.csv', index=False)\n",
    "ministats[ministats.campaign_id.isin(campaigns_test.campaign_id)].to_csv('../data/fpa/stats_fpa_filtered_test_final.csv', index=False)"
   ]
  },
  {
   "cell_type": "code",
   "execution_count": null,
   "id": "18531bac-a3a4-447a-91d9-db03723d0917",
   "metadata": {},
   "outputs": [],
   "source": []
  }
 ],
 "metadata": {
  "kernelspec": {
   "display_name": "Python 3 (ipykernel)",
   "language": "python",
   "name": "python3"
  },
  "language_info": {
   "codemirror_mode": {
    "name": "ipython",
    "version": 3
   },
   "file_extension": ".py",
   "mimetype": "text/x-python",
   "name": "python",
   "nbconvert_exporter": "python",
   "pygments_lexer": "ipython3",
   "version": "3.11.9"
  }
 },
 "nbformat": 4,
 "nbformat_minor": 5
}
