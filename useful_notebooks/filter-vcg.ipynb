{
 "cells": [
  {
   "cell_type": "code",
   "execution_count": 1,
   "id": "83ed56ca-d40e-43ef-8982-25ab319905f7",
   "metadata": {},
   "outputs": [],
   "source": [
    "import sys\n",
    "sys.path.append(\"../\")"
   ]
  },
  {
   "cell_type": "code",
   "execution_count": 7,
   "id": "f87f1a8e-473b-41a4-ab91-26dbbdd912c8",
   "metadata": {},
   "outputs": [],
   "source": [
    "%load_ext autoreload\n",
    "%autoreload 2\n",
    "\n",
    "import pandas as pd\n",
    "import numpy as np"
   ]
  },
  {
   "cell_type": "code",
   "execution_count": 9,
   "id": "39284317-e759-4e81-8d5b-dd7d8f6b2fdf",
   "metadata": {},
   "outputs": [
    {
     "name": "stdout",
     "output_type": "stream",
     "text": [
      "Collecting pyarrow\n",
      "  Downloading pyarrow-17.0.0-cp311-cp311-macosx_11_0_arm64.whl.metadata (3.3 kB)\n",
      "Requirement already satisfied: numpy>=1.16.6 in ./Downloads/mnzeff-autobidding-simulator-ALMP-1628-code-for-submit@7092e45dc3f (1)/.venv/lib/python3.11/site-packages (from pyarrow) (1.26.4)\n",
      "Downloading pyarrow-17.0.0-cp311-cp311-macosx_11_0_arm64.whl (27.2 MB)\n",
      "\u001b[2K   \u001b[38;2;114;156;31m━━━━━━━━━━━━━━━━━━━━━━━━━━━━━━━━━━━━━━━━\u001b[0m \u001b[32m27.2/27.2 MB\u001b[0m \u001b[31m13.7 MB/s\u001b[0m eta \u001b[36m0:00:00\u001b[0m[36m0:00:01\u001b[0m[36m0:00:01\u001b[0m:01\u001b[0m\n",
      "\u001b[?25hInstalling collected packages: pyarrow\n",
      "Successfully installed pyarrow-17.0.0\n"
     ]
    }
   ],
   "source": [
    "!pip install pyarrow"
   ]
  },
  {
   "cell_type": "code",
   "execution_count": 22,
   "id": "7b458d7c-776d-4a06-a6ec-863707f00436",
   "metadata": {},
   "outputs": [],
   "source": [
    "cat_df = pd.read_parquet('Downloads/categories.parquet')"
   ]
  },
  {
   "cell_type": "code",
   "execution_count": 23,
   "id": "b2e405c8-3feb-45e4-b79a-b4242163dba5",
   "metadata": {},
   "outputs": [
    {
     "data": {
      "text/html": [
       "<div>\n",
       "<style scoped>\n",
       "    .dataframe tbody tr th:only-of-type {\n",
       "        vertical-align: middle;\n",
       "    }\n",
       "\n",
       "    .dataframe tbody tr th {\n",
       "        vertical-align: top;\n",
       "    }\n",
       "\n",
       "    .dataframe thead th {\n",
       "        text-align: right;\n",
       "    }\n",
       "</style>\n",
       "<table border=\"1\" class=\"dataframe\">\n",
       "  <thead>\n",
       "    <tr style=\"text-align: right;\">\n",
       "      <th></th>\n",
       "      <th>id</th>\n",
       "      <th>parent_id</th>\n",
       "      <th>name</th>\n",
       "    </tr>\n",
       "  </thead>\n",
       "  <tbody>\n",
       "    <tr>\n",
       "      <th>0</th>\n",
       "      <td>12782</td>\n",
       "      <td>NaN</td>\n",
       "      <td>ROOT</td>\n",
       "    </tr>\n",
       "    <tr>\n",
       "      <th>1</th>\n",
       "      <td>12016</td>\n",
       "      <td>12782.0</td>\n",
       "      <td>Детские товары</td>\n",
       "    </tr>\n",
       "    <tr>\n",
       "      <th>2</th>\n",
       "      <td>12021</td>\n",
       "      <td>12457.0</td>\n",
       "      <td>Карты памяти</td>\n",
       "    </tr>\n",
       "    <tr>\n",
       "      <th>3</th>\n",
       "      <td>12042</td>\n",
       "      <td>13626.0</td>\n",
       "      <td>Кухонные принадлежности</td>\n",
       "    </tr>\n",
       "    <tr>\n",
       "      <th>4</th>\n",
       "      <td>12079</td>\n",
       "      <td>12065.0</td>\n",
       "      <td>Бутылочки и соски</td>\n",
       "    </tr>\n",
       "    <tr>\n",
       "      <th>...</th>\n",
       "      <td>...</td>\n",
       "      <td>...</td>\n",
       "      <td>...</td>\n",
       "    </tr>\n",
       "    <tr>\n",
       "      <th>7741</th>\n",
       "      <td>7796233</td>\n",
       "      <td>14030.0</td>\n",
       "      <td>Одеяла из холлофайбера</td>\n",
       "    </tr>\n",
       "    <tr>\n",
       "      <th>7742</th>\n",
       "      <td>7899672</td>\n",
       "      <td>12953.0</td>\n",
       "      <td>Товары для детейлинга</td>\n",
       "    </tr>\n",
       "    <tr>\n",
       "      <th>7743</th>\n",
       "      <td>8055966</td>\n",
       "      <td>728229.0</td>\n",
       "      <td>Купальники и пляжная одежда</td>\n",
       "    </tr>\n",
       "    <tr>\n",
       "      <th>7744</th>\n",
       "      <td>8094151</td>\n",
       "      <td>12643.0</td>\n",
       "      <td>Мотопомпы для грязной воды</td>\n",
       "    </tr>\n",
       "    <tr>\n",
       "      <th>7745</th>\n",
       "      <td>8131155</td>\n",
       "      <td>2797470.0</td>\n",
       "      <td>Портмоне мужские</td>\n",
       "    </tr>\n",
       "  </tbody>\n",
       "</table>\n",
       "<p>7746 rows × 3 columns</p>\n",
       "</div>"
      ],
      "text/plain": [
       "           id  parent_id                         name\n",
       "0       12782        NaN                         ROOT\n",
       "1       12016    12782.0               Детские товары\n",
       "2       12021    12457.0                 Карты памяти\n",
       "3       12042    13626.0      Кухонные принадлежности\n",
       "4       12079    12065.0            Бутылочки и соски\n",
       "...       ...        ...                          ...\n",
       "7741  7796233    14030.0       Одеяла из холлофайбера\n",
       "7742  7899672    12953.0        Товары для детейлинга\n",
       "7743  8055966   728229.0  Купальники и пляжная одежда\n",
       "7744  8094151    12643.0   Мотопомпы для грязной воды\n",
       "7745  8131155  2797470.0             Портмоне мужские\n",
       "\n",
       "[7746 rows x 3 columns]"
      ]
     },
     "execution_count": 23,
     "metadata": {},
     "output_type": "execute_result"
    }
   ],
   "source": [
    "cat_df"
   ]
  },
  {
   "cell_type": "code",
   "execution_count": 29,
   "id": "73322c35-cadc-4301-8e04-c60c27c0cde2",
   "metadata": {},
   "outputs": [],
   "source": [
    "cat_df = cat_df.rename(columns = {'id': 'Target', 'parent_id': 'Source', 'name': 'Label'})"
   ]
  },
  {
   "cell_type": "code",
   "execution_count": 30,
   "id": "154432e2-e708-492d-b707-3c34dee153cf",
   "metadata": {},
   "outputs": [],
   "source": [
    "cat_df.to_csv('Downloads/categories.csv', index=False)"
   ]
  },
  {
   "cell_type": "code",
   "execution_count": 28,
   "id": "4480a061-94fb-4099-bcf2-19a12e705309",
   "metadata": {},
   "outputs": [
    {
     "data": {
      "text/html": [
       "<div>\n",
       "<style scoped>\n",
       "    .dataframe tbody tr th:only-of-type {\n",
       "        vertical-align: middle;\n",
       "    }\n",
       "\n",
       "    .dataframe tbody tr th {\n",
       "        vertical-align: top;\n",
       "    }\n",
       "\n",
       "    .dataframe thead th {\n",
       "        text-align: right;\n",
       "    }\n",
       "</style>\n",
       "<table border=\"1\" class=\"dataframe\">\n",
       "  <thead>\n",
       "    <tr style=\"text-align: right;\">\n",
       "      <th></th>\n",
       "      <th>Target</th>\n",
       "      <th>Source</th>\n",
       "      <th>name</th>\n",
       "    </tr>\n",
       "  </thead>\n",
       "  <tbody>\n",
       "    <tr>\n",
       "      <th>0</th>\n",
       "      <td>12782</td>\n",
       "      <td>NaN</td>\n",
       "      <td>ROOT</td>\n",
       "    </tr>\n",
       "    <tr>\n",
       "      <th>1</th>\n",
       "      <td>12016</td>\n",
       "      <td>12782.0</td>\n",
       "      <td>Детские товары</td>\n",
       "    </tr>\n",
       "    <tr>\n",
       "      <th>2</th>\n",
       "      <td>12021</td>\n",
       "      <td>12457.0</td>\n",
       "      <td>Карты памяти</td>\n",
       "    </tr>\n",
       "    <tr>\n",
       "      <th>3</th>\n",
       "      <td>12042</td>\n",
       "      <td>13626.0</td>\n",
       "      <td>Кухонные принадлежности</td>\n",
       "    </tr>\n",
       "    <tr>\n",
       "      <th>4</th>\n",
       "      <td>12079</td>\n",
       "      <td>12065.0</td>\n",
       "      <td>Бутылочки и соски</td>\n",
       "    </tr>\n",
       "    <tr>\n",
       "      <th>...</th>\n",
       "      <td>...</td>\n",
       "      <td>...</td>\n",
       "      <td>...</td>\n",
       "    </tr>\n",
       "    <tr>\n",
       "      <th>7741</th>\n",
       "      <td>7796233</td>\n",
       "      <td>14030.0</td>\n",
       "      <td>Одеяла из холлофайбера</td>\n",
       "    </tr>\n",
       "    <tr>\n",
       "      <th>7742</th>\n",
       "      <td>7899672</td>\n",
       "      <td>12953.0</td>\n",
       "      <td>Товары для детейлинга</td>\n",
       "    </tr>\n",
       "    <tr>\n",
       "      <th>7743</th>\n",
       "      <td>8055966</td>\n",
       "      <td>728229.0</td>\n",
       "      <td>Купальники и пляжная одежда</td>\n",
       "    </tr>\n",
       "    <tr>\n",
       "      <th>7744</th>\n",
       "      <td>8094151</td>\n",
       "      <td>12643.0</td>\n",
       "      <td>Мотопомпы для грязной воды</td>\n",
       "    </tr>\n",
       "    <tr>\n",
       "      <th>7745</th>\n",
       "      <td>8131155</td>\n",
       "      <td>2797470.0</td>\n",
       "      <td>Портмоне мужские</td>\n",
       "    </tr>\n",
       "  </tbody>\n",
       "</table>\n",
       "<p>7746 rows × 3 columns</p>\n",
       "</div>"
      ],
      "text/plain": [
       "       Target     Source                         name\n",
       "0       12782        NaN                         ROOT\n",
       "1       12016    12782.0               Детские товары\n",
       "2       12021    12457.0                 Карты памяти\n",
       "3       12042    13626.0      Кухонные принадлежности\n",
       "4       12079    12065.0            Бутылочки и соски\n",
       "...       ...        ...                          ...\n",
       "7741  7796233    14030.0       Одеяла из холлофайбера\n",
       "7742  7899672    12953.0        Товары для детейлинга\n",
       "7743  8055966   728229.0  Купальники и пляжная одежда\n",
       "7744  8094151    12643.0   Мотопомпы для грязной воды\n",
       "7745  8131155  2797470.0             Портмоне мужские\n",
       "\n",
       "[7746 rows x 3 columns]"
      ]
     },
     "execution_count": 28,
     "metadata": {},
     "output_type": "execute_result"
    }
   ],
   "source": [
    "cat_df"
   ]
  },
  {
   "cell_type": "markdown",
   "id": "bde331e1-22f5-4d58-895c-ca1790b54cb9",
   "metadata": {},
   "source": [
    "### Stats and campaigns loading separately"
   ]
  },
  {
   "cell_type": "code",
   "execution_count": 3,
   "id": "e58213c3-2999-457f-bf12-84efc0ee2829",
   "metadata": {},
   "outputs": [],
   "source": [
    "stats = pd.read_csv('../data/vcg/stats.csv')\n",
    "campaigns = pd.read_csv('../data/vcg/campaigns.csv')"
   ]
  },
  {
   "cell_type": "code",
   "execution_count": 4,
   "id": "54a4d3dc-bf48-4d2a-b642-270ee527bf16",
   "metadata": {},
   "outputs": [
    {
     "name": "stdout",
     "output_type": "stream",
     "text": [
      "<class 'pandas.core.frame.DataFrame'>\n",
      "RangeIndex: 23862060 entries, 0 to 23862059\n",
      "Data columns (total 11 columns):\n",
      " #   Column                    Dtype  \n",
      "---  ------                    -----  \n",
      " 0   item_id                   int64  \n",
      " 1   campaign_id               int64  \n",
      " 2   period                    float64\n",
      " 3   contact_price_bin         int64  \n",
      " 4   AuctionVisibilitySurplus  float64\n",
      " 5   AuctionClicksSurplus      float64\n",
      " 6   AuctionContactsSurplus    float64\n",
      " 7   AuctionWinBidSurplus      float64\n",
      " 8   CTRPredicts               float64\n",
      " 9   CRPredicts                float64\n",
      " 10  AuctionCount              float64\n",
      "dtypes: float64(8), int64(3)\n",
      "memory usage: 2.0 GB\n"
     ]
    }
   ],
   "source": [
    "stats.info()"
   ]
  },
  {
   "cell_type": "code",
   "execution_count": 5,
   "id": "f2dca5c6-5062-4bb9-b294-c46f7a130310",
   "metadata": {},
   "outputs": [],
   "source": [
    "def process_data(campaigns, stats):\n",
    "    # Filter out invalid or undesirable data points\n",
    "    stats = stats[\n",
    "        stats['contact_price_bin'].notna() &\n",
    "        (stats['AuctionVisibilitySurplus'] > 0) &\n",
    "        (stats['AuctionClicksSurplus'] > 0) &\n",
    "        (stats['AuctionContactsSurplus'] > 0) &\n",
    "        (stats['AuctionWinBidSurplus'] > 0) &\n",
    "        (stats['CTRPredicts'] > 0) &\n",
    "        (stats['CRPredicts'] > 0)\n",
    "    ]\n",
    "\n",
    "    # Aggregate stats by campaign\n",
    "    cmp_stats = stats.groupby('campaign_id').agg({\n",
    "        'period': ['nunique', 'max', 'min'],\n",
    "        'AuctionWinBidSurplus': 'sum',\n",
    "        'AuctionContactsSurplus': 'sum',\n",
    "        'AuctionClicksSurplus': 'sum',\n",
    "        'contact_price_bin': 'max'\n",
    "    }).reset_index()\n",
    "\n",
    "    # Rename columns for clarity\n",
    "    cmp_stats.columns = ['campaign_id', 'count_periods', 'max_period', 'min_period', \n",
    "                         'max_price_vcg', 'AuctionContactsSurplus', 'max_clicks', 'max_contact_price_bin']\n",
    "\n",
    "    # Calculate FPA max price and max contacts\n",
    "    cmp_stats['max_price_fpa'] = cmp_stats['AuctionContactsSurplus'] * np.power(1.2, cmp_stats['max_contact_price_bin'])\n",
    "    cmp_stats['max_contacts'] = cmp_stats['AuctionContactsSurplus']\n",
    "    cmp_stats.drop('AuctionContactsSurplus', axis=1, inplace=True)\n",
    "\n",
    "    # Calculate number of periods and check if all periods are logged\n",
    "    cmp_stats['num_periods'] = ((cmp_stats['max_period'] - cmp_stats['min_period'])/3600 + 1).astype(int)\n",
    "    cmp_stats['period_full'] = cmp_stats['num_periods'] == cmp_stats['count_periods']\n",
    "\n",
    "    # Filter and process campaigns data\n",
    "    campaigns = campaigns[((campaigns['campaign_end'] - campaigns['campaign_start'])/3600/24) > 0.99]\n",
    "    campaigns['count_c'] = campaigns.groupby('campaign_id')['campaign_id'].transform('count')\n",
    "    campaigns = campaigns[campaigns['count_c'] == 1]\n",
    "    campaigns = campaigns[['campaign_id', 'campaign_end_date', 'campaign_start', 'campaign_end', 'auction_budget']]\n",
    "\n",
    "    # Merge campaign data with stats\n",
    "    cmp_stats = pd.merge(cmp_stats, campaigns, on='campaign_id', how='inner')\n",
    "\n",
    "    # Check if logs start at campaign start\n",
    "    cmp_stats['logs_at_start'] = cmp_stats['min_period'] <= cmp_stats['campaign_start']\n",
    "\n",
    "    # Calculate various metrics and flags\n",
    "    cmp_stats['expected_periods'] = ((cmp_stats['campaign_end'] - cmp_stats['campaign_start'])/3600).astype(int)\n",
    "    cmp_stats['vcg_campaign_days'] = ((cmp_stats['campaign_end'] - cmp_stats['campaign_start'])/3600/24).astype(int)\n",
    "    cmp_stats['periods_logged_full'] = cmp_stats['count_periods'] >= cmp_stats['expected_periods'] - 1\n",
    "    cmp_stats['budget_vcg_ok'] = cmp_stats['max_price_vcg'] > cmp_stats['auction_budget']\n",
    "    cmp_stats['budget_fpa_ok'] = cmp_stats['max_price_fpa'] > cmp_stats['auction_budget']\n",
    "    cmp_stats['clicks_ok'] = cmp_stats['max_clicks'] > 3\n",
    "    cmp_stats['contacts_ok'] = cmp_stats['max_contacts'] > 0.5\n",
    "    cmp_stats['campaign>1day'] = cmp_stats['expected_periods'] > 25\n",
    "    cmp_stats['campaign>=7day'] = cmp_stats['expected_periods'] > 24 * 7\n",
    "    cmp_stats['logged>1day'] = cmp_stats['num_periods'] > 25\n",
    "    cmp_stats['logged>2day'] = cmp_stats['num_periods'] > 49\n",
    "\n",
    "    # Filter for tier 1 campaigns\n",
    "    campaigns_tier_1 = cmp_stats[\n",
    "        cmp_stats['budget_vcg_ok'] &\n",
    "        cmp_stats['budget_fpa_ok'] &\n",
    "        cmp_stats['clicks_ok'] &\n",
    "        cmp_stats['logs_at_start']\n",
    "    ]\n",
    "\n",
    "    return cmp_stats, campaigns_tier_1"
   ]
  },
  {
   "cell_type": "code",
   "execution_count": 6,
   "id": "1776ab2d-c711-4693-abd2-49897adf40dd",
   "metadata": {},
   "outputs": [],
   "source": [
    "cmp_stats, campaigns_tier_1 = process_data(campaigns, stats)"
   ]
  },
  {
   "cell_type": "code",
   "execution_count": 7,
   "id": "72edd64a-cb28-42b1-be99-30d634f60f2b",
   "metadata": {},
   "outputs": [],
   "source": [
    "ministats = stats[stats.campaign_id.isin(set(campaigns_tier_1.campaign_id))]\n",
    "minicampaigns = campaigns[campaigns.campaign_id.isin(set(campaigns_tier_1.campaign_id))]"
   ]
  },
  {
   "cell_type": "code",
   "execution_count": 8,
   "id": "d9d2d100-07b9-4c12-8b7e-32b609447640",
   "metadata": {},
   "outputs": [
    {
     "data": {
      "text/plain": [
       "(3893, 230442)"
      ]
     },
     "execution_count": 8,
     "metadata": {},
     "output_type": "execute_result"
    }
   ],
   "source": [
    "len(minicampaigns), len(campaigns)"
   ]
  },
  {
   "cell_type": "markdown",
   "id": "41bca7c6-ac93-4f7f-a6e2-d962cc48830f",
   "metadata": {},
   "source": [
    "# Some statistics of the datasets"
   ]
  },
  {
   "cell_type": "code",
   "execution_count": 9,
   "id": "ebd1dc93-6ae6-4e60-94f6-e351a131efa0",
   "metadata": {},
   "outputs": [
    {
     "data": {
      "text/plain": [
       "<Axes: >"
      ]
     },
     "execution_count": 9,
     "metadata": {},
     "output_type": "execute_result"
    },
    {
     "data": {
      "image/png": "[encoded data removed]",
      "text/plain": [
       "<Figure size 640x480 with 1 Axes>"
      ]
     },
     "metadata": {},
     "output_type": "display_data"
    }
   ],
   "source": [
    "# Contact price bin distribution \n",
    "ministats.contact_price_bin.hist(bins=30)"
   ]
  },
  {
   "cell_type": "code",
   "execution_count": 10,
   "id": "e0f14c5d-d5bc-4cdb-b3c3-5d02fefe3ac1",
   "metadata": {},
   "outputs": [],
   "source": [
    "ministats.loc[ministats.contact_price_bin < 0, 'contact_price_bin'] = -10"
   ]
  },
  {
   "cell_type": "code",
   "execution_count": 11,
   "id": "c7ace854-caa8-4598-8680-6a80c50dbac9",
   "metadata": {},
   "outputs": [],
   "source": [
    "def campaigns_value_counts(campaigns: pd.DataFrame):\n",
    "    length_series = pd.to_datetime(campaigns['campaign_end'], unit='s') - pd.to_datetime(campaigns['campaign_start'], unit='s')\n",
    "    print(length_series.value_counts())\n",
    "    pass"
   ]
  },
  {
   "cell_type": "code",
   "execution_count": 12,
   "id": "a40fd95f-894c-499a-be65-8a3853d2a4cb",
   "metadata": {},
   "outputs": [
    {
     "name": "stdout",
     "output_type": "stream",
     "text": [
      "1 days     177041\n",
      "7 days      35109\n",
      "5 days       7470\n",
      "2 days       4059\n",
      "3 days       3377\n",
      "14 days      1276\n",
      "4 days       1139\n",
      "6 days        295\n",
      "10 days       222\n",
      "30 days        99\n",
      "8 days         80\n",
      "15 days        53\n",
      "9 days         49\n",
      "20 days        35\n",
      "12 days        31\n",
      "13 days        22\n",
      "25 days        15\n",
      "21 days        15\n",
      "11 days        14\n",
      "17 days         8\n",
      "24 days         7\n",
      "16 days         7\n",
      "19 days         6\n",
      "18 days         4\n",
      "22 days         3\n",
      "23 days         3\n",
      "26 days         1\n",
      "27 days         1\n",
      "29 days         1\n",
      "Name: count, dtype: int64\n"
     ]
    }
   ],
   "source": [
    "# Distribution of the lengths of the lifetime of the campaigns\n",
    "campaigns_value_counts(campaigns)"
   ]
  },
  {
   "cell_type": "markdown",
   "id": "2af791c2-b2b8-49f2-aecf-40ec90aecb3f",
   "metadata": {},
   "source": [
    "# Train + test split"
   ]
  },
  {
   "cell_type": "code",
   "execution_count": 13,
   "id": "3e8a01d6-1c91-49dc-bf35-f51cd8a72b77",
   "metadata": {},
   "outputs": [
    {
     "data": {
      "text/plain": [
       "campaign_start_date\n",
       "1986-06-18    468\n",
       "1986-07-01    324\n",
       "1986-06-20    315\n",
       "1986-06-24    249\n",
       "1986-06-23    245\n",
       "1986-06-25    220\n",
       "1986-06-17    219\n",
       "1986-06-29    195\n",
       "1986-06-16    166\n",
       "1986-06-21    157\n",
       "1986-06-26    149\n",
       "1986-06-15    134\n",
       "1986-06-19    126\n",
       "1986-06-10    120\n",
       "1986-06-22    113\n",
       "1986-06-09    105\n",
       "1986-06-11    105\n",
       "1986-06-08    102\n",
       "1986-06-14     89\n",
       "1986-06-13     71\n",
       "1986-06-12     62\n",
       "1986-06-30     48\n",
       "1986-06-28     46\n",
       "1986-06-27     43\n",
       "1986-07-02     22\n",
       "Name: count, dtype: int64"
      ]
     },
     "execution_count": 13,
     "metadata": {},
     "output_type": "execute_result"
    }
   ],
   "source": [
    "minicampaigns.campaign_start_date.value_counts()"
   ]
  },
  {
   "cell_type": "code",
   "execution_count": 14,
   "id": "9dc2b077-7d13-4a42-9cd4-3690ccf27c4a",
   "metadata": {},
   "outputs": [
    {
     "name": "stdout",
     "output_type": "stream",
     "text": [
      "length of the train: 389, length of the test: 389\n"
     ]
    }
   ],
   "source": [
    "k = len(minicampaigns) * 1 // 10\n",
    "k_test = len(minicampaigns) * 2 // 10\n",
    "last_train_start = max(np.partition(minicampaigns.campaign_start, k)[:k])\n",
    "last_test_start = max(np.partition(minicampaigns.campaign_start, k_test)[:k_test])\n",
    "print(f'length of the train: {k}, length of the test: {k_test - k}')"
   ]
  },
  {
   "cell_type": "code",
   "execution_count": 15,
   "id": "54da1d27-c73d-4f7c-92df-80c4f2202ccf",
   "metadata": {},
   "outputs": [
    {
     "data": {
      "text/plain": [
       "(388, 389)"
      ]
     },
     "execution_count": 15,
     "metadata": {},
     "output_type": "execute_result"
    }
   ],
   "source": [
    "len(minicampaigns[minicampaigns.campaign_start < last_train_start]), len(minicampaigns[(minicampaigns.campaign_start >= last_train_start) & (minicampaigns.campaign_start < last_test_start)])"
   ]
  },
  {
   "cell_type": "code",
   "execution_count": 18,
   "id": "37e1d4dc-4ca4-490e-b8bf-2472be32504c",
   "metadata": {},
   "outputs": [],
   "source": [
    "# Filter out campaigns from the training set whose lifetimes intersect with any campaign in the test set\n",
    "campaigns_train = minicampaigns[minicampaigns.campaign_start < last_train_start]\n",
    "campaigns_test = minicampaigns[(minicampaigns.campaign_start >= last_train_start) & (minicampaigns.campaign_start < last_test_start)]"
   ]
  },
  {
   "cell_type": "code",
   "execution_count": 20,
   "id": "2279c055-5cd3-45d9-bba3-caaff5d50507",
   "metadata": {},
   "outputs": [
    {
     "data": {
      "text/plain": [
       "389"
      ]
     },
     "execution_count": 20,
     "metadata": {},
     "output_type": "execute_result"
    }
   ],
   "source": [
    "len(campaigns_test[campaigns_test.campaign_start > campaigns_train.campaign_end.max()])"
   ]
  },
  {
   "cell_type": "code",
   "execution_count": 19,
   "id": "b555aee8-57d4-4c0a-beca-9fd3ac223692",
   "metadata": {},
   "outputs": [
    {
     "data": {
      "text/plain": [
       "79"
      ]
     },
     "execution_count": 19,
     "metadata": {},
     "output_type": "execute_result"
    }
   ],
   "source": [
    "campaigns_train = campaigns_train[campaigns_train.campaign_end < campaigns_test.campaign_start.min()]\n",
    "len(campaigns_train)"
   ]
  },
  {
   "cell_type": "markdown",
   "id": "9fa3e4a3-093e-4f88-b6eb-32c42172d1b5",
   "metadata": {},
   "source": [
    "# Saving filtered data to files"
   ]
  },
  {
   "cell_type": "code",
   "execution_count": 21,
   "id": "4a70e6ee-ffee-4710-bce4-008749bff2d7",
   "metadata": {},
   "outputs": [],
   "source": [
    "minicampaigns.to_csv('../data/vcg/campaigns_vcg_filtered_final.csv', index=False)\n",
    "campaigns_train.to_csv('../data/vcg/campaigns_vcg_filtered_train_final.csv', index=False)\n",
    "campaigns_test.to_csv('../data/vcg/campaigns_vcg_filtered_test_final.csv', index=False)"
   ]
  },
  {
   "cell_type": "code",
   "execution_count": 22,
   "id": "3bd3c2be-73e3-4b8b-8746-fde839984d83",
   "metadata": {},
   "outputs": [],
   "source": [
    "ministats.to_csv('../data/vcg/stats_vcg_filtered_final.csv', index=False)\n",
    "ministats[ministats.campaign_id.isin(campaigns_train.campaign_id)].to_csv('../data/vcg/stats_vcg_filtered_train_final.csv', index=False)\n",
    "ministats[ministats.campaign_id.isin(campaigns_test.campaign_id)].to_csv('../data/vcg/stats_vcg_filtered_test_final.csv', index=False)"
   ]
  },
  {
   "cell_type": "code",
   "execution_count": null,
   "id": "5336b387-236c-4a4c-a643-1bd57bdbad19",
   "metadata": {},
   "outputs": [],
   "source": []
  },
  {
   "cell_type": "code",
   "execution_count": null,
   "id": "157939a0-4c78-4acc-990c-1361ab5dfc55",
   "metadata": {},
   "outputs": [],
   "source": []
  }
 ],
 "metadata": {
  "kernelspec": {
   "display_name": "Python 3 (ipykernel)",
   "language": "python",
   "name": "python3"
  },
  "language_info": {
   "codemirror_mode": {
    "name": "ipython",
    "version": 3
   },
   "file_extension": ".py",
   "mimetype": "text/x-python",
   "name": "python",
   "nbconvert_exporter": "python",
   "pygments_lexer": "ipython3",
   "version": "3.11.9"
  }
 },
 "nbformat": 4,
 "nbformat_minor": 5
}
